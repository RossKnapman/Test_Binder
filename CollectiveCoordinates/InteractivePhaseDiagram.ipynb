{
 "cells": [
  {
   "cell_type": "markdown",
   "id": "c1778dc4",
   "metadata": {},
   "source": [
    "# Interactive Phase Diagram\n",
    "\n",
    "This is an interactive notebook in which the user can click on points in the phase diagram of $E_0$ and $\\omega$, and see the corresponding collective coordinate evolution data."
   ]
  },
  {
   "cell_type": "code",
   "execution_count": null,
   "id": "a88092d6",
   "metadata": {},
   "outputs": [],
   "source": [
    "%matplotlib notebook\n",
    "\n",
    "import numpy as np\n",
    "from matplotlib import pyplot as plt\n",
    "from matplotlib.gridspec import GridSpec\n",
    "import sys\n",
    "\n",
    "sys.path.append('..')\n",
    "from Utils.Fits import *\n",
    "from Utils.PhaseDiagramFunctions import *\n",
    "\n",
    "data_directory = 'CollectiveCoordinateIntegration/CollectiveCoordinateDataSupplied'\n",
    "\n",
    "R_directory = data_directory + '/R/'\n",
    "eta_directory = data_directory + '/eta/'\n",
    "times = np.load(data_directory + '/General/times.npy')\n",
    "\n",
    "E0_values, omega_values = get_E0_and_omega_arrays(R_directory)"
   ]
  },
  {
   "cell_type": "markdown",
   "id": "e51fa364",
   "metadata": {},
   "source": [
    "Calculate the phase diagrams. This cell is commented out as the data is already supplied. \n",
    "\n",
    "Important: Before this cell is run, you need to have integrated the collective coordinates by running the SageMath script `CCIntegration.sage`."
   ]
  },
  {
   "cell_type": "code",
   "execution_count": null,
   "id": "a8097556",
   "metadata": {},
   "outputs": [],
   "source": [
    "# data_directory = 'CollectiveCoordinateIntegration/CollectiveCoordinateData'\n",
    "\n",
    "# mean_winding_number_array = get_phase_diagram(data_directory, mean_winding_number)\n",
    "# helicity_criterion_array = get_helicity_criterion(data_directory, mean_winding_number_array)\n",
    "# energies_during_cycle_array = get_phase_diagram(data_directory, get_mean_energy, total_energy)\n",
    "# maximum_radius_during_cycle_array = get_phase_diagram(data_directory, max_radius)\n",
    "\n",
    "# if not os.path.exists(data_directory + '/PhaseDiagramData'):\n",
    "#     os.mkdir(data_directory + '/PhaseDiagramData')\n",
    "\n",
    "# np.save(data_directory + '/PhaseDiagramData/MeanWindingNumber', mean_winding_number)\n",
    "# np.save(data_directory + '/PhaseDiagramData/HelicityCriterion', helicity_criterion_array)\n",
    "# np.save(data_directory + '/PhaseDiagramData/EnergiesDuringCycle', energies_during_cycle_array)\n",
    "# np.save(data_directory + '/PhaseDiagramData/MaxR', maximum_radius_during_cycle_array)\n",
    "\n",
    "# R_directory = data_directory + '/R/'\n",
    "# eta_directory = data_directory + '/eta/'\n",
    "# times = np.load(data_directory + '/General/times.npy')\n",
    "\n",
    "# E0_values, omega_values = get_E0_and_omega_arrays(R_directory)"
   ]
  },
  {
   "cell_type": "markdown",
   "id": "7a184a43",
   "metadata": {},
   "source": [
    "Load the data used to plot the phase diagram."
   ]
  },
  {
   "cell_type": "code",
   "execution_count": null,
   "id": "4d176dae",
   "metadata": {},
   "outputs": [],
   "source": [
    "helicity_criterion_array = np.load(data_directory + '/PhaseDiagramData/HelicityCriterion.npy')"
   ]
  },
  {
   "cell_type": "markdown",
   "id": "e153c914",
   "metadata": {},
   "source": [
    "Load various parameters obtained during the collective coordinate integration, such as fitting parameters."
   ]
  },
  {
   "cell_type": "code",
   "execution_count": null,
   "id": "4e8a6b72",
   "metadata": {},
   "outputs": [],
   "source": [
    "Bz, dw_width, E_exchangeFitParams, E_magnetic_integralFitParams, E_electric_integralFitParams, alpha, F_RexFitParams, Gamma11FitParams, Gamma22FitParams, G12FitParams, Xi1FitParams, Xi2FitParams, Xi3FitParams, Xi4FitParams, optimalSkyrmionRadius = read_parameters(data_directory)"
   ]
  },
  {
   "cell_type": "markdown",
   "id": "dab61636",
   "metadata": {},
   "source": [
    "Display the phase diagram."
   ]
  },
  {
   "cell_type": "code",
   "execution_count": null,
   "id": "0903b1e8",
   "metadata": {
    "scrolled": false
   },
   "outputs": [],
   "source": [
    "fig = plt.figure(constrained_layout=True, figsize=(6, 8))\n",
    "gs = GridSpec(4, 2, figure=fig)\n",
    "\n",
    "ax1 = fig.add_subplot(gs[:2, :])\n",
    "ax2 = fig.add_subplot(gs[2, 0])\n",
    "ax3 = fig.add_subplot(gs[2, 1])\n",
    "ax4 = fig.add_subplot(gs[3, 0])\n",
    "ax5 = fig.add_subplot(gs[3, 1])\n",
    "\n",
    "im = ax1.imshow(helicity_criterion_array, extent=[omega_values[0], omega_values[-1], E0_values[0], E0_values[-1]], origin='lower', picker=True)\n",
    "\n",
    "ax1.set_ylabel(r'$E_0$', fontsize=15)\n",
    "ax1.set_xlabel(r'$\\omega$', fontsize=15)\n",
    "\n",
    "ax1.set_aspect(0.8)\n",
    "\n",
    "# Placeholder initial point\n",
    "start_idx = 0\n",
    "R, eta = get_coordinates(E0_values[start_idx], omega_values[start_idx], data_directory)\n",
    "Bz_array = np.full_like(times, Bz)\n",
    "Ez_array = E0_values[start_idx] * np.cos(omega_values[start_idx]*times)\n",
    "\n",
    "Rplot, = ax2.plot(times, R)\n",
    "ax2.set_xlabel(r'$t$')\n",
    "ax2.set_ylabel(r'$R$')\n",
    "\n",
    "etaplot, = ax3.plot(times, eta)\n",
    "ax3.set_xlabel(r'$t$')\n",
    "ax3.set_ylabel(r'$\\eta$')\n",
    "\n",
    "Rcut = R[int(0.8*len(R)):]\n",
    "etacut = eta[int(0.8*len(eta)):]\n",
    "timescut = times[int(0.8*len(times)):]\n",
    "Ez_arraycut = Ez_array[int(0.8*len(eta)):]\n",
    "Bz_arraycut = Bz_array[int(0.8*len(eta)):]\n",
    "orbitplot, = ax4.plot(Rcut*np.cos(etacut), Rcut*np.sin(etacut))\n",
    "ax4.set_xlabel(r'$R\\cos\\eta$')\n",
    "ax4.set_ylabel(r'$R\\sin\\eta$')\n",
    "ax4.set_aspect(1)\n",
    "\n",
    "ax4.set_xlim(np.min(Rcut*np.cos(etacut)), np.max(Rcut*np.cos(etacut)))\n",
    "ax4.set_ylim(np.min(Rcut*np.sin(etacut)), np.max(Rcut*np.sin(etacut)))\n",
    "\n",
    "energies = total_energy(Rcut, etacut, Bz_arraycut, Ez_arraycut, E_exchangeFitParams, E_magnetic_integralFitParams, E_electric_integralFitParams)\n",
    "energiesplot, = ax5.plot(timescut, energies)\n",
    "ax5.set_xlabel(r'$t$')\n",
    "ax5.set_ylabel(r'$U$')\n",
    "\n",
    "coordinate_text = ax1.text(-1., 2.2, \"E0={:.2f}\".format(E0_values[start_idx]) + ',\\n' + \"omega={:.2f}\".format(omega_values[start_idx]))\n",
    "\n",
    "# Point to mark where on the diagram is being shown\n",
    "shownpoint, = ax1.plot(omega_values[start_idx], E0_values[start_idx], '.', color='cyan')\n",
    "\n",
    "def onpick(event):\n",
    "    \n",
    "    mouseevent = event.mouseevent\n",
    "    x_idx = np.argmin(np.abs(omega_values - mouseevent.xdata))\n",
    "    y_idx = np.argmin(np.abs(E0_values - mouseevent.ydata))\n",
    "    \n",
    "    E = E0_values[y_idx]\n",
    "    omega = omega_values[x_idx]\n",
    "    R, eta = get_coordinates(E, omega, data_directory)\n",
    "    Ez_array = E * np.cos(omega*times)\n",
    "    Rplot.set_data(times, R)\n",
    "    etaplot.set_data(times, eta)\n",
    "    ax2.set_ylim(np.min(R), np.max(R))\n",
    "    ax3.set_ylim(np.min(eta), np.max(eta))\n",
    "    coordinate_text.set_text('E0={:.2f}'.format(E) + ',\\n' + 'omega={:.2f}'.format(omega))\n",
    "    shownpoint.set_data(omega, E)\n",
    "    \n",
    "    Rcut = R[int(0.8*len(R)):]\n",
    "    etacut = eta[int(0.8*len(eta)):]\n",
    "    \n",
    "    orbitplot.set_data(Rcut*np.cos(etacut), Rcut*np.sin(etacut))\n",
    "    ax4.set_xlim(np.min(Rcut*np.cos(etacut)), np.max(Rcut*np.cos(etacut)))\n",
    "    ax4.set_ylim(np.min(Rcut*np.sin(etacut)), np.max(Rcut*np.sin(etacut)))\n",
    "    ax4.set_aspect(1)\n",
    "    \n",
    "    energies = total_energy(Rcut, etacut, Bz_arraycut, Ez_arraycut, E_exchangeFitParams, E_magnetic_integralFitParams, E_electric_integralFitParams)\n",
    "    energiesplot.set_data(timescut, energies)\n",
    "    ax5.set_ylim(np.min(energies), np.max(energies))\n",
    "    \n",
    "    Rcut = R[len(R)//2:]\n",
    "    etacut = eta[len(eta)//2:]\n",
    "    \n",
    "fig.canvas.mpl_connect('pick_event', onpick)"
   ]
  },
  {
   "cell_type": "code",
   "execution_count": null,
   "id": "42c4ad97",
   "metadata": {},
   "outputs": [],
   "source": []
  }
 ],
 "metadata": {
  "kernelspec": {
   "display_name": "Python 3 (ipykernel)",
   "language": "python",
   "name": "python3"
  },
  "language_info": {
   "codemirror_mode": {
    "name": "ipython",
    "version": 3
   },
   "file_extension": ".py",
   "mimetype": "text/x-python",
   "name": "python",
   "nbconvert_exporter": "python",
   "pygments_lexer": "ipython3",
   "version": "3.8.16"
  },
  "vscode": {
   "interpreter": {
    "hash": "8287b244251ce8b430dea7181eb54827684c18537d8dd581c2d5a46d8d1db1a9"
   }
  }
 },
 "nbformat": 4,
 "nbformat_minor": 5
}
