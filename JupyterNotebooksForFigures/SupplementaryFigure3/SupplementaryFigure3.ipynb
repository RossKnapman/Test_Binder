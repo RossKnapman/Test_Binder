{
 "cells": [
  {
   "cell_type": "markdown",
   "id": "67551b99",
   "metadata": {},
   "source": [
    "# Supplementary Figure 3: Skyrmion Average Energy Phase Diagram"
   ]
  },
  {
   "cell_type": "code",
   "execution_count": null,
   "id": "6d7fdbca",
   "metadata": {},
   "outputs": [],
   "source": [
    "import matplotlib.pyplot as plt\n",
    "from mpl_toolkits.axes_grid1.inset_locator import inset_axes\n",
    "import numpy as np\n",
    "\n",
    "import sys\n",
    "sys.path.append('../..')\n",
    "from Utils.PhaseDiagramFunctions import *\n",
    "\n",
    "plt.style.use('Style.mplstyle')\n",
    "\n",
    "# Directory containing collective coordinate integration data\n",
    "cc_directory = '../../CollectiveCoordinates/CollectiveCoordinateIntegration/CollectiveCoordinateDataSupplied'\n",
    "R_directory = cc_directory + '/R/'\n",
    "eta_directory = cc_directory + '/eta/'\n",
    "E0_values, omega_values = get_E0_and_omega_arrays(R_directory)\n",
    "energies_during_cycle_array = np.load(cc_directory + '/PhaseDiagramData/EnergiesDuringCycle.npy')\n",
    "\n",
    "fig, ax = plt.subplots()\n",
    "\n",
    "im = ax.imshow(energies_during_cycle_array - get_skyrmion_energy(cc_directory), extent=[omega_values[0], omega_values[-1], E0_values[0], E0_values[-1]], origin='lower', cmap='PuOr', vmin=-0.5, vmax=0.5, interpolation='nearest')\n",
    "\n",
    "axins = inset_axes(ax, width = \"5%\", height = \"100%\", loc = 'lower left',\n",
    "                bbox_to_anchor = (1.1, 0., 1, 1), bbox_transform = ax.transAxes,\n",
    "                borderpad = 0)\n",
    "cb = fig.colorbar(im, cax=axins, extend='both')\n",
    "cb.set_label(r'$(\\langle U \\rangle - U^*) / 2 \\pi d$', rotation=-90, labelpad=30, size=26)\n",
    "\n",
    "ax.set_ylabel(r'$E_0$', size=26)\n",
    "ax.set_xlabel(r'$\\omega$', size=26)\n",
    "ax.set_ylim(0, 1.5)\n",
    "plt.tight_layout()"
   ]
  },
  {
   "cell_type": "code",
   "execution_count": null,
   "id": "c88f9095",
   "metadata": {},
   "outputs": [],
   "source": []
  }
 ],
 "metadata": {
  "kernelspec": {
   "display_name": "Python 3 (ipykernel)",
   "language": "python",
   "name": "python3"
  },
  "language_info": {
   "codemirror_mode": {
    "name": "ipython",
    "version": 3
   },
   "file_extension": ".py",
   "mimetype": "text/x-python",
   "name": "python",
   "nbconvert_exporter": "python",
   "pygments_lexer": "ipython3",
   "version": "3.11.5"
  }
 },
 "nbformat": 4,
 "nbformat_minor": 5
}
