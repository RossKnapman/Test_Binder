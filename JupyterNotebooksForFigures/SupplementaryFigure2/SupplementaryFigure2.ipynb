{
 "cells": [
  {
   "cell_type": "markdown",
   "id": "26287471",
   "metadata": {},
   "source": [
    "# Supplementary Figure 2: Maximum Skyrmion Radius in Collective Coordinate Evolution Phase Diagram"
   ]
  },
  {
   "cell_type": "code",
   "execution_count": null,
   "id": "8f7202fe",
   "metadata": {},
   "outputs": [],
   "source": [
    "import matplotlib.pyplot as plt\n",
    "import matplotlib.colors as colors\n",
    "from mpl_toolkits.axes_grid1.inset_locator import inset_axes\n",
    "import numpy as np\n",
    "\n",
    "import sys\n",
    "sys.path.append('../..')\n",
    "from Utils.PhaseDiagramFunctions import *\n",
    "from Utils.FiguresFunctions import *\n",
    "\n",
    "plt.style.use('Style.mplstyle')\n",
    "\n",
    "# Directory in which collective coordinate integration data is stored\n",
    "cc_directory = '../../CollectiveCoordinates/CollectiveCoordinateIntegration/CollectiveCoordinateDataSupplied'\n",
    "R_directory = cc_directory + '/R/'\n",
    "eta_directory = cc_directory + '/eta/'\n",
    "E0_values, omega_values = get_E0_and_omega_arrays(R_directory)\n",
    "maxR = np.load(cc_directory + '/PhaseDiagramData/MaxR.npy')\n",
    "\n",
    "fig, (ax1, ax2) = plt.subplots(nrows=2)\n",
    "\n",
    "# Obtain parameters such as magnetic field, fit parameters (see Methods section of manuscript on fitting)\n",
    "# E_exchange, E_magnetic, and E_electric are the contributions from exchange, Zeeman, and electric field to energy respectively\n",
    "# alpha is the Gilbert damping constant\n",
    "# F_rex is -dU_ex / dR\n",
    "# Gamma11 and Gamma22 are as in the manuscript where 1 is R and 2 is η\n",
    "# G12 is the G_{Rη} from the manuscript\n",
    "\n",
    "# What I call Xi are parameters that show up in the analytical expressions for the helicity-dependent\n",
    "# parts of the generalised forces for the skyrmion profile ansatz we use\n",
    "\n",
    "# Xi1 is the integral of cos(2θ) dθ / dR over ρ\n",
    "# Xi2 is the integral of ρ * d^2θ / dRdρ over ρ\n",
    "# Xi3 is the integral of cos(θ)sin(θ) over ρ\n",
    "# Xi4 is the integral of ρ * dθ / dρ over ρ\n",
    "Bz, dw_width, E_exchangeFitParams, E_magnetic_integralFitParams, E_electric_integralFitParams, alpha, F_RexFitParams, Gamma11FitParams, Gamma22FitParams, G12FitParams, Xi1FitParams, Xi2FitParams, Xi3FitParams, Xi4FitParams, optimalSkyrmionRadius = read_parameters(cc_directory)\n",
    "\n",
    "# Plot top phase diagram showing maximum radius\n",
    "im_maxR = ax1.imshow(maxR, extent=[omega_values[0], omega_values[-1], E0_values[0], E0_values[-1]], origin='lower', cmap='Reds', interpolation='nearest', norm=colors.LogNorm(vmin=maxR.min(), vmax=maxR.max()))\n",
    "\n",
    "# Plot bottom phase diagram showing R_max - R^*\n",
    "im_maxR_restricted = ax2.imshow(maxR - optimalSkyrmionRadius, extent=[omega_values[0], omega_values[-1], E0_values[0], E0_values[-1]], origin='lower', cmap='PiYG', vmin=-0.1, vmax=0.1, interpolation='nearest')\n",
    "\n",
    "# Add colour bars\n",
    "axins = inset_axes(ax1, width = \"5%\", height = \"100%\", loc = 'lower left',\n",
    "                bbox_to_anchor = (1.1, 0., 1, 1), bbox_transform = ax1.transAxes,\n",
    "                borderpad = 0)\n",
    "cb = fig.colorbar(im_maxR, cax=axins, extend='max')\n",
    "cb.set_label(r'$R_{\\mathrm{max}}$', rotation=-90, labelpad=20, size=18)\n",
    "\n",
    "axins = inset_axes(ax2, width = \"5%\", height = \"100%\", loc = 'lower left',\n",
    "                bbox_to_anchor = (1.1, 0., 1, 1), bbox_transform = ax2.transAxes,\n",
    "                borderpad = 0)\n",
    "cb = fig.colorbar(im_maxR_restricted, cax=axins, extend='both')\n",
    "cb.set_label(r'$R_{\\mathrm{max}} - R^*$', rotation=-90, labelpad=20, size=18)\n",
    "\n",
    "ax1.set_ylabel(r'$E_0$', size=18)\n",
    "ax1.set_xlabel(r'$\\omega$', size=18)\n",
    "ax2.set_ylabel(r'$E_0$', size=18)\n",
    "ax2.set_xlabel(r'$\\omega$', size=18)\n",
    "\n",
    "ax1.set_ylim(0, 1.5)\n",
    "ax2.set_ylim(0, 1.5)\n",
    "\n",
    "plt.tight_layout()"
   ]
  },
  {
   "cell_type": "code",
   "execution_count": null,
   "id": "c2d95f3c",
   "metadata": {},
   "outputs": [],
   "source": []
  }
 ],
 "metadata": {
  "kernelspec": {
   "display_name": "Python 3 (ipykernel)",
   "language": "python",
   "name": "python3"
  },
  "language_info": {
   "codemirror_mode": {
    "name": "ipython",
    "version": 3
   },
   "file_extension": ".py",
   "mimetype": "text/x-python",
   "name": "python",
   "nbconvert_exporter": "python",
   "pygments_lexer": "ipython3",
   "version": "3.11.5"
  }
 },
 "nbformat": 4,
 "nbformat_minor": 5
}
